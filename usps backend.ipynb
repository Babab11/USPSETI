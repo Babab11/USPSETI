{
  "nbformat": 4,
  "nbformat_minor": 0,
  "metadata": {
    "colab": {
      "provenance": []
    },
    "kernelspec": {
      "name": "python3",
      "display_name": "Python 3"
    },
    "language_info": {
      "name": "python"
    }
  },
  "cells": [
    {
      "cell_type": "code",
      "execution_count": null,
      "metadata": {
        "id": "7zHVtt4VapgE"
      },
      "outputs": [],
      "source": []
    },
    {
      "cell_type": "markdown",
      "source": [
        "#Karim koita\n",
        "#Group 11\n",
        "###Project ode"
      ],
      "metadata": {
        "id": "NHSRycNybUIU"
      }
    },
    {
      "cell_type": "code",
      "source": [
        "%%capture\n",
        "\n",
        "!pip install ipython-sql\n",
        "!pip install databases\n",
        "!pip install databases[sqlite]"
      ],
      "metadata": {
        "id": "-Rsa4h9uatir"
      },
      "execution_count": null,
      "outputs": []
    },
    {
      "cell_type": "code",
      "source": [
        "!pip install ipython-sql sqlalchemy  # Ensure ipython-sql and sqlalchemy are installed\n",
        "%load_ext sql\n",
        "%sql sqlite:///projectdb.db  # Initialize a SQLite database\n"
      ],
      "metadata": {
        "id": "Fz2a-PK5buL3",
        "colab": {
          "base_uri": "https://localhost:8080/"
        },
        "outputId": "edcbb769-dee6-4ade-fe98-0789bc3bc6bc"
      },
      "execution_count": 4,
      "outputs": [
        {
          "output_type": "stream",
          "name": "stdout",
          "text": [
            "Requirement already satisfied: ipython-sql in /usr/local/lib/python3.10/dist-packages (0.5.0)\n",
            "Requirement already satisfied: sqlalchemy in /usr/local/lib/python3.10/dist-packages (2.0.29)\n",
            "Requirement already satisfied: prettytable in /usr/local/lib/python3.10/dist-packages (from ipython-sql) (3.10.0)\n",
            "Requirement already satisfied: ipython in /usr/local/lib/python3.10/dist-packages (from ipython-sql) (7.34.0)\n",
            "Requirement already satisfied: sqlparse in /usr/local/lib/python3.10/dist-packages (from ipython-sql) (0.5.0)\n",
            "Requirement already satisfied: six in /usr/local/lib/python3.10/dist-packages (from ipython-sql) (1.16.0)\n",
            "Requirement already satisfied: ipython-genutils in /usr/local/lib/python3.10/dist-packages (from ipython-sql) (0.2.0)\n",
            "Requirement already satisfied: typing-extensions>=4.6.0 in /usr/local/lib/python3.10/dist-packages (from sqlalchemy) (4.11.0)\n",
            "Requirement already satisfied: greenlet!=0.4.17 in /usr/local/lib/python3.10/dist-packages (from sqlalchemy) (3.0.3)\n",
            "Requirement already satisfied: setuptools>=18.5 in /usr/local/lib/python3.10/dist-packages (from ipython->ipython-sql) (67.7.2)\n",
            "Collecting jedi>=0.16 (from ipython->ipython-sql)\n",
            "  Downloading jedi-0.19.1-py2.py3-none-any.whl (1.6 MB)\n",
            "\u001b[2K     \u001b[90m━━━━━━━━━━━━━━━━━━━━━━━━━━━━━━━━━━━━━━━━\u001b[0m \u001b[32m1.6/1.6 MB\u001b[0m \u001b[31m10.0 MB/s\u001b[0m eta \u001b[36m0:00:00\u001b[0m\n",
            "\u001b[?25hRequirement already satisfied: decorator in /usr/local/lib/python3.10/dist-packages (from ipython->ipython-sql) (4.4.2)\n",
            "Requirement already satisfied: pickleshare in /usr/local/lib/python3.10/dist-packages (from ipython->ipython-sql) (0.7.5)\n",
            "Requirement already satisfied: traitlets>=4.2 in /usr/local/lib/python3.10/dist-packages (from ipython->ipython-sql) (5.7.1)\n",
            "Requirement already satisfied: prompt-toolkit!=3.0.0,!=3.0.1,<3.1.0,>=2.0.0 in /usr/local/lib/python3.10/dist-packages (from ipython->ipython-sql) (3.0.43)\n",
            "Requirement already satisfied: pygments in /usr/local/lib/python3.10/dist-packages (from ipython->ipython-sql) (2.16.1)\n",
            "Requirement already satisfied: backcall in /usr/local/lib/python3.10/dist-packages (from ipython->ipython-sql) (0.2.0)\n",
            "Requirement already satisfied: matplotlib-inline in /usr/local/lib/python3.10/dist-packages (from ipython->ipython-sql) (0.1.7)\n",
            "Requirement already satisfied: pexpect>4.3 in /usr/local/lib/python3.10/dist-packages (from ipython->ipython-sql) (4.9.0)\n",
            "Requirement already satisfied: wcwidth in /usr/local/lib/python3.10/dist-packages (from prettytable->ipython-sql) (0.2.13)\n",
            "Requirement already satisfied: parso<0.9.0,>=0.8.3 in /usr/local/lib/python3.10/dist-packages (from jedi>=0.16->ipython->ipython-sql) (0.8.4)\n",
            "Requirement already satisfied: ptyprocess>=0.5 in /usr/local/lib/python3.10/dist-packages (from pexpect>4.3->ipython->ipython-sql) (0.7.0)\n",
            "Installing collected packages: jedi\n",
            "Successfully installed jedi-0.19.1\n",
            "The sql extension is already loaded. To reload it, use:\n",
            "  %reload_ext sql\n",
            "(sqlite3.OperationalError) unrecognized token: \"#\"\n",
            "[SQL: # Initialize a SQLite database]\n",
            "(Background on this error at: https://sqlalche.me/e/20/e3q8)\n"
          ]
        }
      ]
    },
    {
      "cell_type": "code",
      "source": [
        "%%sql\n",
        "\n",
        "-- Drop existing tables if they exist\n",
        "DROP TABLE IF EXISTS Services;\n",
        "DROP TABLE IF EXISTS Packages;\n",
        "DROP TABLE IF EXISTS Users;\n",
        "DROP TABLE IF EXISTS Locations;\n",
        "\n",
        "CREATE TABLE IF NOT EXISTS Users (\n",
        "    userID INTEGER PRIMARY KEY AUTOINCREMENT,\n",
        "    username VARCHAR(50) UNIQUE NOT NULL,\n",
        "    password VARCHAR(255) NOT NULL,\n",
        "    email VARCHAR(100)\n",
        ");\n",
        "\n",
        "CREATE TABLE IF NOT EXISTS Packages (\n",
        "    packageID INTEGER PRIMARY KEY AUTOINCREMENT,\n",
        "    trackingNumber VARCHAR(50) UNIQUE NOT NULL,\n",
        "    userID INTEGER,\n",
        "    status VARCHAR(100),\n",
        "    estimatedDelivery DATE,\n",
        "    FOREIGN KEY(userID) REFERENCES Users(userID)\n",
        ");\n",
        "\n",
        "CREATE TABLE IF NOT EXISTS Locations (\n",
        "    locationID INTEGER PRIMARY KEY AUTOINCREMENT,\n",
        "    name VARCHAR(255) NOT NULL,\n",
        "    address VARCHAR(255) NOT NULL,\n",
        "    city VARCHAR(100) NOT NULL,\n",
        "    state CHAR(2) NOT NULL,\n",
        "    zipCode CHAR(5) NOT NULL\n",
        ");\n",
        "\n",
        "CREATE TABLE IF NOT EXISTS Services (\n",
        "    serviceID INTEGER PRIMARY KEY AUTOINCREMENT,\n",
        "    locationID INTEGER,\n",
        "    serviceType VARCHAR(100) NOT NULL,\n",
        "    description TEXT,\n",
        "    price DECIMAL(10,2),\n",
        "    FOREIGN KEY(locationID) REFERENCES Locations(locationID)\n",
        ");\n"
      ],
      "metadata": {
        "colab": {
          "base_uri": "https://localhost:8080/"
        },
        "id": "JJMstUqbbx46",
        "outputId": "2628bced-1e24-43bf-fe10-dd3185252bc7"
      },
      "execution_count": 27,
      "outputs": [
        {
          "output_type": "stream",
          "name": "stdout",
          "text": [
            " * sqlite:///projectdb.db\n",
            "Done.\n",
            "Done.\n",
            "Done.\n",
            "Done.\n",
            "Done.\n",
            "Done.\n",
            "Done.\n",
            "Done.\n"
          ]
        },
        {
          "output_type": "execute_result",
          "data": {
            "text/plain": [
              "[]"
            ]
          },
          "metadata": {},
          "execution_count": 27
        }
      ]
    },
    {
      "cell_type": "code",
      "source": [
        "%%sql\n",
        "INSERT INTO Users (username, password, email) VALUES\n",
        "('user1', 'hashed_password1', 'user1@example.com'),\n",
        "('user2', 'hashed_password2', 'user2@example.com'),\n",
        "('user3', 'hashed_password3', 'user3@example.com'),\n",
        "('user4', 'karim', 'karim@example.com');\n",
        "\n",
        "INSERT INTO Packages (trackingNumber, userID, status, estimatedDelivery) VALUES\n",
        "('Z123456789', 1, 'In Transit', '2024-05-25'),\n",
        "('X987654321', 2, 'Delivered', '2024-04-15'),\n",
        "('Y111222333', 3, 'In Transit', '2024-06-01'),\n",
        "('W444555666', 4, 'At Local Post Office', '2024-06-02'),\n",
        "('V777888999', 1, 'Out for Delivery', '2024-06-03'),\n",
        "('U000111222', 2, 'Returned to Sender', '2024-05-30');\n",
        "\n",
        "INSERT INTO Locations (name, address, city, state, zipCode) VALUES\n",
        "('Main Post Office', '123 Main St', 'Anytown', 'CA', '90210'),\n",
        "('Downtown Post Office', '456 Elm St', 'Anytown', 'CA', '90211'),\n",
        "('Suburban Post Office', '789 Birch St', 'Anytown', 'CA', '90212'),\n",
        "('City Center Post Office', '234 Cedar Rd', 'Anytown', 'CA', '90213');\n",
        "\n",
        "INSERT INTO Services (locationID, serviceType, description, price) VALUES\n",
        "(1, 'Standard Mail', 'Deliver within 3-5 business days.', 0.55),\n",
        "(1, 'Priority Mail', 'Deliver within 1-3 business days.', 7.50),\n",
        "(2, 'International Mail', 'Deliver to over 190 countries.', 1.20),\n",
        "(3, 'Express Mail', 'Guaranteed overnight delivery.', 25.00),\n",
        "(3, 'Certified Mail', 'Provides proof of mailing.', 3.75),\n",
        "(4, 'Registered Mail', 'Secures valuables with postal insurance.', 12.50),\n",
        "(4, 'Media Mail', 'Economical way to send media materials.', 2.80),\n",
        "(1, 'Express International', 'International delivery in 3-5 days.', 45.50),\n",
        "(2, 'Global Express Guaranteed', 'Delivery to over 190 countries in 1-3 days.', 60.00),\n",
        "(3, 'Post Office Box Rental', 'Monthly rental of a post office box.', 15.00),\n",
        "(4, 'Money Order', 'Secure payment method for up to $1,000.', 1.25);\n"
      ],
      "metadata": {
        "colab": {
          "base_uri": "https://localhost:8080/"
        },
        "id": "ecolt3sx78RL",
        "outputId": "8c12daad-7e17-4345-b4aa-a6a29f80909e"
      },
      "execution_count": 28,
      "outputs": [
        {
          "output_type": "stream",
          "name": "stdout",
          "text": [
            " * sqlite:///projectdb.db\n",
            "4 rows affected.\n",
            "6 rows affected.\n",
            "4 rows affected.\n",
            "11 rows affected.\n"
          ]
        },
        {
          "output_type": "execute_result",
          "data": {
            "text/plain": [
              "[]"
            ]
          },
          "metadata": {},
          "execution_count": 28
        }
      ]
    },
    {
      "cell_type": "code",
      "source": [
        "%sql SELECT * FROM Users"
      ],
      "metadata": {
        "colab": {
          "base_uri": "https://localhost:8080/",
          "height": 161
        },
        "id": "5xl5RGgL9c5I",
        "outputId": "df041599-816b-4616-b048-6dbcb3c5f5c7"
      },
      "execution_count": 29,
      "outputs": [
        {
          "output_type": "stream",
          "name": "stdout",
          "text": [
            " * sqlite:///projectdb.db\n",
            "Done.\n"
          ]
        },
        {
          "output_type": "execute_result",
          "data": {
            "text/plain": [
              "[(1, 'user1', 'hashed_password1', 'user1@example.com'),\n",
              " (2, 'user2', 'hashed_password2', 'user2@example.com'),\n",
              " (3, 'user3', 'hashed_password3', 'user3@example.com'),\n",
              " (4, 'user4', 'karim', 'karim@example.com')]"
            ],
            "text/html": [
              "<table>\n",
              "    <thead>\n",
              "        <tr>\n",
              "            <th>userID</th>\n",
              "            <th>username</th>\n",
              "            <th>password</th>\n",
              "            <th>email</th>\n",
              "        </tr>\n",
              "    </thead>\n",
              "    <tbody>\n",
              "        <tr>\n",
              "            <td>1</td>\n",
              "            <td>user1</td>\n",
              "            <td>hashed_password1</td>\n",
              "            <td>user1@example.com</td>\n",
              "        </tr>\n",
              "        <tr>\n",
              "            <td>2</td>\n",
              "            <td>user2</td>\n",
              "            <td>hashed_password2</td>\n",
              "            <td>user2@example.com</td>\n",
              "        </tr>\n",
              "        <tr>\n",
              "            <td>3</td>\n",
              "            <td>user3</td>\n",
              "            <td>hashed_password3</td>\n",
              "            <td>user3@example.com</td>\n",
              "        </tr>\n",
              "        <tr>\n",
              "            <td>4</td>\n",
              "            <td>user4</td>\n",
              "            <td>karim</td>\n",
              "            <td>karim@example.com</td>\n",
              "        </tr>\n",
              "    </tbody>\n",
              "</table>"
            ]
          },
          "metadata": {},
          "execution_count": 29
        }
      ]
    }
  ]
}